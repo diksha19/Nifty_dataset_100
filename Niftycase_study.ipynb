{
  "nbformat": 4,
  "nbformat_minor": 0,
  "metadata": {
    "colab": {
      "name": "Niftycase_study.ipynb",
      "provenance": [],
      "collapsed_sections": []
    },
    "kernelspec": {
      "name": "python3",
      "display_name": "Python 3"
    },
    "language_info": {
      "name": "python"
    }
  },
  "cells": [
    {
      "cell_type": "markdown",
      "metadata": {
        "id": "p8MpX0CvbPvR"
      },
      "source": [
        "###Nifty Case Study = Nifty 100 (Data import : https://www.niftyindices.com/reports/historical-data )\n"
      ]
    },
    {
      "cell_type": "code",
      "metadata": {
        "id": "6hl9C_z1bkuE"
      },
      "source": [
        "import numpy as np\n",
        "import pandas as pd"
      ],
      "execution_count": 6,
      "outputs": []
    },
    {
      "cell_type": "markdown",
      "metadata": {
        "id": "GdnuB66NbOMa"
      },
      "source": [
        ""
      ]
    },
    {
      "cell_type": "code",
      "metadata": {
        "id": "cte_LkA3bcJL"
      },
      "source": [
        "nifty = pd.read_csv('/NIFTY 100_Data.csv', index_col=0).iloc[:,3]"
      ],
      "execution_count": 17,
      "outputs": []
    },
    {
      "cell_type": "code",
      "metadata": {
        "id": "j3pPr07-bZ5W",
        "colab": {
          "base_uri": "https://localhost:8080/"
        },
        "outputId": "262cffd9-d6a6-40a4-cb7c-c4b1255b4af9"
      },
      "source": [
        "nifty.head()"
      ],
      "execution_count": 20,
      "outputs": [
        {
          "output_type": "execute_result",
          "data": {
            "text/plain": [
              "Date\n",
              "30-Apr-21    14790.60\n",
              "29-Apr-21    15029.95\n",
              "28-Apr-21    15004.65\n",
              "27-Apr-21    14807.75\n",
              "26-Apr-21    14645.90\n",
              "Name: Close, dtype: float64"
            ]
          },
          "metadata": {
            "tags": []
          },
          "execution_count": 20
        }
      ]
    },
    {
      "cell_type": "markdown",
      "metadata": {
        "id": "C9w_nWdKbF6q"
      },
      "source": [
        ""
      ]
    },
    {
      "cell_type": "code",
      "metadata": {
        "colab": {
          "base_uri": "https://localhost:8080/"
        },
        "id": "sDDzVu5bhPkR",
        "outputId": "fd7e3f54-f5b2-4e27-a00f-c0cd212fbaa3"
      },
      "source": [
        "np.mean(nifty)"
      ],
      "execution_count": 21,
      "outputs": [
        {
          "output_type": "execute_result",
          "data": {
            "text/plain": [
              "12557.469400000004"
            ]
          },
          "metadata": {
            "tags": []
          },
          "execution_count": 21
        }
      ]
    },
    {
      "cell_type": "code",
      "metadata": {
        "colab": {
          "base_uri": "https://localhost:8080/"
        },
        "id": "5TBaa-9XhTIW",
        "outputId": "cdea9403-7336-4bd8-fc13-52a77d9c89fe"
      },
      "source": [
        "np.median(nifty)"
      ],
      "execution_count": 23,
      "outputs": [
        {
          "output_type": "execute_result",
          "data": {
            "text/plain": [
              "11993.2"
            ]
          },
          "metadata": {
            "tags": []
          },
          "execution_count": 23
        }
      ]
    },
    {
      "cell_type": "code",
      "metadata": {
        "colab": {
          "base_uri": "https://localhost:8080/"
        },
        "id": "GiXxw_XChavl",
        "outputId": "eb7dcb2d-a1bc-4c04-909a-06a7c9e1faa8"
      },
      "source": [
        "np.std(nifty)"
      ],
      "execution_count": 24,
      "outputs": [
        {
          "output_type": "execute_result",
          "data": {
            "text/plain": [
              "1864.2361546203426"
            ]
          },
          "metadata": {
            "tags": []
          },
          "execution_count": 24
        }
      ]
    },
    {
      "cell_type": "markdown",
      "metadata": {
        "id": "kahbYRtChql7"
      },
      "source": [
        "What fraction of days did the markets close higher then the previous days."
      ]
    },
    {
      "cell_type": "code",
      "metadata": {
        "colab": {
          "base_uri": "https://localhost:8080/"
        },
        "id": "eLNL6YrDh2nA",
        "outputId": "3f4086d6-2830-4dec-f390-49d2e9889c20"
      },
      "source": [
        "np.sum(nifty.values[1:] - nifty.values[:-1]  > 0)/len(nifty)"
      ],
      "execution_count": 36,
      "outputs": [
        {
          "output_type": "execute_result",
          "data": {
            "text/plain": [
              "0.36"
            ]
          },
          "metadata": {
            "tags": []
          },
          "execution_count": 36
        }
      ]
    },
    {
      "cell_type": "markdown",
      "metadata": {
        "id": "361h84iYkW7Y"
      },
      "source": [
        "1. Compute Moving averages of the last five days.\n",
        "2. Subset the data to include only data for Fridays"
      ]
    },
    {
      "cell_type": "code",
      "metadata": {
        "id": "CwHixMbCiD95"
      },
      "source": [
        "day = pd.Timestamp(nifty.index[0])"
      ],
      "execution_count": 46,
      "outputs": []
    },
    {
      "cell_type": "code",
      "metadata": {
        "colab": {
          "base_uri": "https://localhost:8080/"
        },
        "id": "cDHafVMZi_Eg",
        "outputId": "659a0e2b-a438-4089-9369-30b9a3678c80"
      },
      "source": [
        "day.dayofweek"
      ],
      "execution_count": 47,
      "outputs": [
        {
          "output_type": "execute_result",
          "data": {
            "text/plain": [
              "4"
            ]
          },
          "metadata": {
            "tags": []
          },
          "execution_count": 47
        }
      ]
    },
    {
      "cell_type": "code",
      "metadata": {
        "id": "Xcf0pDkGnYt5"
      },
      "source": [
        "new_index = map(pd.Timestamp,nifty.index)"
      ],
      "execution_count": 48,
      "outputs": []
    },
    {
      "cell_type": "code",
      "metadata": {
        "id": "yKXSKPUPpScV"
      },
      "source": [
        "new_nifty = pd.Series(nifty, index= new_index)"
      ],
      "execution_count": 49,
      "outputs": []
    },
    {
      "cell_type": "code",
      "metadata": {
        "colab": {
          "base_uri": "https://localhost:8080/"
        },
        "id": "PUrqAa5QpipU",
        "outputId": "5e45d997-d8dc-4fe7-ce59-30b2b7989728"
      },
      "source": [
        "new_nifty.index[0]"
      ],
      "execution_count": 51,
      "outputs": [
        {
          "output_type": "execute_result",
          "data": {
            "text/plain": [
              "Timestamp('2021-04-30 00:00:00')"
            ]
          },
          "metadata": {
            "tags": []
          },
          "execution_count": 51
        }
      ]
    },
    {
      "cell_type": "code",
      "metadata": {
        "colab": {
          "base_uri": "https://localhost:8080/"
        },
        "id": "s6orMQb7pmOO",
        "outputId": "57421ef2-48ae-414a-c2ac-ddc5a13496a2"
      },
      "source": [
        "new_nifty.rolling('5d').mean()"
      ],
      "execution_count": 53,
      "outputs": [
        {
          "output_type": "execute_result",
          "data": {
            "text/plain": [
              "2021-04-30    14790.600000\n",
              "2021-04-29    14910.275000\n",
              "2021-04-28    14941.733333\n",
              "2021-04-27    14908.237500\n",
              "2021-04-26    14855.770000\n",
              "                  ...     \n",
              "2020-05-08     9397.533333\n",
              "2020-05-07     9390.600000\n",
              "2020-05-06     9396.216667\n",
              "2020-05-05     9386.887500\n",
              "2020-05-04     9400.320000\n",
              "Name: Close, Length: 250, dtype: float64"
            ]
          },
          "metadata": {
            "tags": []
          },
          "execution_count": 53
        }
      ]
    },
    {
      "cell_type": "code",
      "metadata": {
        "id": "-cSZAO6Lp3Av"
      },
      "source": [
        "day_of_the_week = new_nifty.copy()\n",
        "for i in day_of_the_week.index:\n",
        "    day_of_the_week[i] = i.dayofweek"
      ],
      "execution_count": 56,
      "outputs": []
    },
    {
      "cell_type": "code",
      "metadata": {
        "colab": {
          "base_uri": "https://localhost:8080/"
        },
        "id": "ihpxNTL8qlDL",
        "outputId": "9a2cd0b0-68d3-4b3c-8cbe-903cbe3ccfb6"
      },
      "source": [
        "day_of_the_week "
      ],
      "execution_count": 57,
      "outputs": [
        {
          "output_type": "execute_result",
          "data": {
            "text/plain": [
              "2021-04-30    4.0\n",
              "2021-04-29    3.0\n",
              "2021-04-28    2.0\n",
              "2021-04-27    1.0\n",
              "2021-04-26    0.0\n",
              "             ... \n",
              "2020-05-08    4.0\n",
              "2020-05-07    3.0\n",
              "2020-05-06    2.0\n",
              "2020-05-05    1.0\n",
              "2020-05-04    0.0\n",
              "Name: Close, Length: 250, dtype: float64"
            ]
          },
          "metadata": {
            "tags": []
          },
          "execution_count": 57
        }
      ]
    },
    {
      "cell_type": "code",
      "metadata": {
        "colab": {
          "base_uri": "https://localhost:8080/"
        },
        "id": "5CbaJ8E6q-kQ",
        "outputId": "fd2a73a8-a63f-4596-fbd8-138de5164390"
      },
      "source": [
        "new_nifty[day_of_the_week == 4]"
      ],
      "execution_count": 58,
      "outputs": [
        {
          "output_type": "execute_result",
          "data": {
            "text/plain": [
              "2021-04-30    14790.60\n",
              "2021-04-23    14510.95\n",
              "2021-04-16    14773.20\n",
              "2021-04-09    15004.15\n",
              "2021-03-26    14633.50\n",
              "2021-03-19    14847.25\n",
              "2021-03-12    15140.15\n",
              "2021-03-05    15084.35\n",
              "2021-02-26    14667.60\n",
              "2021-02-19    15102.65\n",
              "2021-02-12    15245.75\n",
              "2021-02-05    14988.95\n",
              "2021-01-29    13743.30\n",
              "2021-01-22    14479.60\n",
              "2021-01-15    14558.80\n",
              "2021-01-08    14514.35\n",
              "2021-01-01    14137.55\n",
              "2020-12-18    13872.80\n",
              "2020-12-11    13647.90\n",
              "2020-12-04    13396.50\n",
              "2020-11-27    13080.30\n",
              "2020-11-20    12962.45\n",
              "2020-11-13    12804.25\n",
              "2020-11-06    12349.15\n",
              "2020-10-30    11748.95\n",
              "2020-10-23    12006.10\n",
              "2020-10-16    11843.35\n",
              "2020-10-09    11990.70\n",
              "2020-09-25    11176.30\n",
              "2020-09-18    11640.20\n",
              "2020-09-11    11589.65\n",
              "2020-09-04    11464.95\n",
              "2020-08-28    11791.50\n",
              "2020-08-21    11535.80\n",
              "2020-08-14    11337.55\n",
              "2020-08-07    11361.40\n",
              "2020-07-31    11222.95\n",
              "2020-07-24    11297.75\n",
              "2020-07-17    11045.85\n",
              "2020-07-10    10919.70\n",
              "2020-07-03    10776.30\n",
              "2020-06-26    10570.95\n",
              "2020-06-19    10407.75\n",
              "2020-06-12    10158.30\n",
              "2020-06-05    10324.15\n",
              "2020-05-29     9759.45\n",
              "2020-05-22     9226.80\n",
              "2020-05-15     9320.60\n",
              "2020-05-08     9408.65\n",
              "Name: Close, dtype: float64"
            ]
          },
          "metadata": {
            "tags": []
          },
          "execution_count": 58
        }
      ]
    },
    {
      "cell_type": "code",
      "metadata": {
        "id": "HknyblFkrHm-"
      },
      "source": [
        ""
      ],
      "execution_count": null,
      "outputs": []
    }
  ]
}